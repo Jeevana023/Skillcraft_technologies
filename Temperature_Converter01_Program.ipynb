{
  "cells": [
    {
      "cell_type": "markdown",
      "metadata": {
        "id": "view-in-github",
        "colab_type": "text"
      },
      "source": [
        "<a href=\"https://colab.research.google.com/github/Jeevana023/Skillcraft_technologies/blob/main/Temperature_Converter01_Program.ipynb\" target=\"_parent\"><img src=\"https://colab.research.google.com/assets/colab-badge.svg\" alt=\"Open In Colab\"/></a>"
      ]
    },
    {
      "cell_type": "code",
      "source": [
        "def celsius_to_fahrenheit(celsius):\n",
        "    \"\"\"Converts Celsius to Fahrenheit.\"\"\"\n",
        "    return (celsius * 9/5) + 32\n",
        "\n",
        "def celsius_to_kelvin(celsius):\n",
        "    \"\"\"Converts Celsius to Kelvin.\"\"\"\n",
        "    return celsius + 273.15\n",
        "\n",
        "def fahrenheit_to_celsius(fahrenheit):\n",
        "    \"\"\"Converts Fahrenheit to Celsius.\"\"\"\n",
        "    return (fahrenheit - 32) * 5/9\n",
        "\n",
        "def fahrenheit_to_kelvin(fahrenheit):\n",
        "    \"\"\"Converts Fahrenheit to Kelvin.\"\"\"\n",
        "    return celsius_to_kelvin(fahrenheit_to_celsius(fahrenheit))\n",
        "\n",
        "def kelvin_to_celsius(kelvin):\n",
        "    \"\"\"Converts Kelvin to Celsius.\"\"\"\n",
        "    return kelvin - 273.15\n",
        "\n",
        "def kelvin_to_fahrenheit(kelvin):\n",
        "    \"\"\"Converts Kelvin to Fahrenheit.\"\"\"\n",
        "    return celsius_to_fahrenheit(kelvin_to_celsius(kelvin))\n",
        "\n",
        "def convert_temperature():\n",
        "    \"\"\"\n",
        "    Guides the user through temperature conversion.\n",
        "    \"\"\"\n",
        "    print(\"Temperature Conversion Program\")\n",
        "    print(\"----------------------------\")\n",
        "\n",
        "    while True:\n",
        "        try:\n",
        "            value = float(input(\"Enter the temperature value: \"))\n",
        "            break\n",
        "        except ValueError:\n",
        "            print(\"Invalid input. Please enter a numerical value for temperature.\")\n",
        "\n",
        "    while True:\n",
        "        original_unit = input(\"Enter the original unit (C for Celsius, F for Fahrenheit, K for Kelvin): \").strip().upper()\n",
        "        if original_unit in ['C', 'F', 'K']:\n",
        "            break\n",
        "        else:\n",
        "            print(\"Invalid unit. Please enter C, F, or K.\")\n",
        "\n",
        "    while True:\n",
        "        target_unit = input(\"Enter the target unit (C for Celsius, F for Fahrenheit, K for Kelvin): \").strip().upper()\n",
        "        if target_unit in ['C', 'F', 'K']:\n",
        "            if target_unit == original_unit:\n",
        "                print(\"Original and target units are the same. No conversion needed.\")\n",
        "                print(f\"Result: {value:.2f} {original_unit}\")\n",
        "                return # Exit the function if units are the same\n",
        "            break\n",
        "        else:\n",
        "            print(\"Invalid unit. Please enter C, F, or K.\")\n",
        "\n",
        "    converted_value = None\n",
        "\n",
        "    if original_unit == 'C':\n",
        "        if target_unit == 'F':\n",
        "            converted_value = celsius_to_fahrenheit(value)\n",
        "        elif target_unit == 'K':\n",
        "            converted_value = celsius_to_kelvin(value)\n",
        "    elif original_unit == 'F':\n",
        "        if target_unit == 'C':\n",
        "            converted_value = fahrenheit_to_celsius(value)\n",
        "        elif target_unit == 'K':\n",
        "            converted_value = fahrenheit_to_kelvin(value)\n",
        "    elif original_unit == 'K':\n",
        "        if target_unit == 'C':\n",
        "            converted_value = kelvin_to_celsius(value)\n",
        "        elif target_unit == 'F':\n",
        "            converted_value = kelvin_to_fahrenheit(value)\n",
        "\n",
        "    if converted_value is not None:\n",
        "        print(f\"\\n{value:.2f} {original_unit} is equal to {converted_value:.2f} {target_unit}\")\n",
        "    else:\n",
        "        print(\"An error occurred during conversion. Please check your inputs.\")\n",
        "\n",
        "# Call the main function to run the program\n",
        "if __name__ == \"__main__\":\n",
        "    convert_temperature()"
      ],
      "outputs": [
        {
          "output_type": "stream",
          "name": "stdout",
          "text": [
            "Temperature Conversion Program\n",
            "----------------------------\n",
            "Enter the temperature value: 100\n",
            "Enter the original unit (C for Celsius, F for Fahrenheit, K for Kelvin): Celsius \n",
            "Invalid unit. Please enter C, F, or K.\n",
            "Enter the original unit (C for Celsius, F for Fahrenheit, K for Kelvin): Kelvin\n",
            "Invalid unit. Please enter C, F, or K.\n",
            "Enter the original unit (C for Celsius, F for Fahrenheit, K for Kelvin): K\n",
            "Enter the target unit (C for Celsius, F for Fahrenheit, K for Kelvin): F\n",
            "\n",
            "100.00 K is equal to -279.67 F\n"
          ]
        }
      ],
      "execution_count": 1,
      "metadata": {
        "id": "HzqFgZyQL5SX",
        "outputId": "eb082aec-9722-4f82-ef73-6cc0eec04104",
        "colab": {
          "base_uri": "https://localhost:8080/"
        }
      }
    }
  ],
  "metadata": {
    "colab": {
      "provenance": [],
      "include_colab_link": true
    },
    "kernelspec": {
      "display_name": "Python 3",
      "name": "python3"
    }
  },
  "nbformat": 4,
  "nbformat_minor": 0
}