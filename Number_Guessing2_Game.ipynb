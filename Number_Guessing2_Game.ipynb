{
  "cells": [
    {
      "cell_type": "markdown",
      "metadata": {
        "id": "view-in-github",
        "colab_type": "text"
      },
      "source": [
        "<a href=\"https://colab.research.google.com/github/Jeevana023/Skillcraft_technologies/blob/main/Number_Guessing2_Game.ipynb\" target=\"_parent\"><img src=\"https://colab.research.google.com/assets/colab-badge.svg\" alt=\"Open In Colab\"/></a>"
      ]
    },
    {
      "cell_type": "code",
      "source": [
        "import random\n",
        "\n",
        "def guess_the_number():\n",
        "    \"\"\"\n",
        "    Implements a number guessing game where the user tries to guess a randomly\n",
        "    generated number within a specified range.\n",
        "    \"\"\"\n",
        "    print(\"Welcome to the Number Guessing Game!\")\n",
        "    print(\"I'm thinking of a number between 1 and 100.\")\n",
        "    print(\"Can you guess it?\")\n",
        "\n",
        "    # Generate a random number between 1 and 100 (inclusive)\n",
        "    secret_number = random.randint(1, 100)\n",
        "    attempts = 0\n",
        "    guess = None\n",
        "\n",
        "    while guess != secret_number:\n",
        "        try:\n",
        "            # Prompt the user for their guess\n",
        "            guess_input = input(\"Enter your guess: \")\n",
        "            guess = int(guess_input)\n",
        "            attempts += 1\n",
        "\n",
        "            # Compare the guess to the secret number and provide feedback\n",
        "            if guess < secret_number:\n",
        "                print(\"Too low! Try again.\")\n",
        "            elif guess > secret_number:\n",
        "                print(\"Too high! Try again.\")\n",
        "            else:\n",
        "                print(f\"Congratulations! You guessed the number {secret_number} in {attempts} attempts!\")\n",
        "        except ValueError:\n",
        "            # Handle cases where the input is not a valid integer\n",
        "            print(\"Invalid input. Please enter a whole number.\")\n",
        "        except Exception as e:\n",
        "            # Catch any other unexpected errors\n",
        "            print(f\"An unexpected error occurred: {e}\")\n",
        "            break # Exit the loop in case of unhandled errors\n",
        "\n",
        "# Run the game when the script is executed\n",
        "if __name__ == \"__main__\":\n",
        "    guess_the_number()"
      ],
      "outputs": [
        {
          "output_type": "stream",
          "name": "stdout",
          "text": [
            "Welcome to the Number Guessing Game!\n",
            "I'm thinking of a number between 1 and 100.\n",
            "Can you guess it?\n",
            "Enter your guess: 56\n",
            "Too low! Try again.\n",
            "Enter your guess: 60\n",
            "Too low! Try again.\n",
            "Enter your guess: 70\n",
            "Too low! Try again.\n",
            "Enter your guess: 77\n",
            "Too low! Try again.\n",
            "Enter your guess: 80\n",
            "Too high! Try again.\n",
            "Enter your guess: 78\n",
            "Too low! Try again.\n",
            "Enter your guess: 79\n",
            "Congratulations! You guessed the number 79 in 7 attempts!\n"
          ]
        }
      ],
      "execution_count": 1,
      "metadata": {
        "id": "bYNFI5jwJXlr",
        "outputId": "6a6b1d4e-2413-4529-dad5-334421304978",
        "colab": {
          "base_uri": "https://localhost:8080/"
        }
      }
    }
  ],
  "metadata": {
    "colab": {
      "provenance": [],
      "include_colab_link": true
    },
    "kernelspec": {
      "display_name": "Python 3",
      "name": "python3"
    }
  },
  "nbformat": 4,
  "nbformat_minor": 0
}